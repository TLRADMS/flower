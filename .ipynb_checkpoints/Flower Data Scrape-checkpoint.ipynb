{
 "cells": [
  {
   "cell_type": "code",
   "execution_count": null,
   "metadata": {},
   "outputs": [],
   "source": [
    "import time, os\n",
    "from bs4 import BeautifulSoup\n",
    "from selenium import webdriver\n",
    "from selenium.webdriver.common.keys import Keys\n",
    "from selenium.common.exceptions import NoSuchElementException\n",
    "import urllib\n",
    "import requests\n",
    "import sys\n",
    "from IPython.display import Image, display"
   ]
  },
  {
   "cell_type": "code",
   "execution_count": null,
   "metadata": {},
   "outputs": [],
   "source": [
    "def launch_browser(url):\n",
    "    # path to the chromedriver executable\n",
    "    chromedriver = r\"C:\\Users\\tyler\\Documents\\GitHub\\chromedriver.exe\"\n",
    "    os.environ[\"webdriver.chrome.driver\"] = chromedriver\n",
    "    driver = webdriver.Chrome(chromedriver) #launch the browser\n",
    "    driver.get(url)\n",
    "    return driver"
   ]
  },
  {
   "cell_type": "code",
   "execution_count": null,
   "metadata": {},
   "outputs": [],
   "source": [
    "def get_url_list(url_list):\n",
    "    '''\n",
    "    parse list of target urls to be scraped\n",
    "    '''\n",
    "    return_list = []\n",
    "    for url in url_list:\n",
    "        flower_link = url.get_attribute('href')\n",
    "        if '/plants/group' in flower_link and len(flower_link) > 33 and 'facebook' not in flower_link:\n",
    "            return_list.append(flower_link)\n",
    "    return return_list"
   ]
  },
  {
   "cell_type": "code",
   "execution_count": null,
   "metadata": {},
   "outputs": [],
   "source": [
    "def get_flower_name(url):\n",
    "    flower = url.replace('https://garden.org/plants/group/', '')\n",
    "    flower = flower.replace('/', '')\n",
    "    return flower"
   ]
  },
  {
   "cell_type": "code",
   "execution_count": null,
   "metadata": {},
   "outputs": [],
   "source": [
    "def loop_through_url_list(url_list):\n",
    "    '''\n",
    "    This function receives a list of URLs, and loops through those. For each URL\n",
    "    it go into the page, click an 'Access the generic daylilies entry' button, \n",
    "    then save all of those thumbnail images into a folder.\n",
    "    Note: saving thumbnails for the sake of space\n",
    "    ---\n",
    "    input: a list of string URLs and an empty dataframe\n",
    "    output: a dataframe with data from each URL in the list\n",
    "    '''\n",
    "    x=1\n",
    "    for url in url_list:\n",
    "        flower = get_flower_name(url)\n",
    "        print('fetching images for', x, 'of', len(url_list), flower)\n",
    "        #go to flower page\n",
    "        driver.get(url)\n",
    "        \n",
    "        link_list = driver.find_elements_by_css_selector('p a')\n",
    "        for link in link_list:\n",
    "            link = link.get_attribute('href')\n",
    "            if \"/plants/view/\" in link:\n",
    "                target = link\n",
    "        \n",
    "        #save each thumbnail image\n",
    "        pic_list = save_each_flower_picture(target, flower)\n",
    "        \n",
    "        x+=1\n",
    "    print('done!!')"
   ]
  },
  {
   "cell_type": "code",
   "execution_count": null,
   "metadata": {},
   "outputs": [],
   "source": [
    "def save_each_flower_picture(url, flower, x):\n",
    "    save_location = 'C:/Users/tyler/Desktop/flowers'\n",
    "    driver.get(url)\n",
    "    exclusions = ['Image', \n",
    "                    'Login to give thumbs-ups', \n",
    "                    'https://garden.org/i/icon/tu-green.png', \n",
    "                    'https://garden.org/i/p/social/pinterest.png',\n",
    "                    'https://garden.org/i/p/social/facebook.png',\n",
    "                    'https://garden.org/i/p/social/linkedin.png',\n",
    "                    'https://garden.org/i/p/social/twitter.png',\n",
    "                    'https://garden.org/i/p/social/gmail.png',\n",
    "                    'https://garden.org/i/p/nga/header/logo.png',\n",
    "                    'https://garden.org/i/p/nga/header/plants.png',\n",
    "                    'https://garden.org/i/p/newsletter_signup.png'\n",
    "                 ]\n",
    "    #save each THUMBNAIL with naming convention of \"flower (scientific name), iterator\"\n",
    "    #this can be found at the top of each page\n",
    "    \n",
    "    pic_list = driver.find_elements_by_css_selector('a img')\n",
    "    for pic in pic_list:\n",
    "        title = pic.get_attribute('title')\n",
    "        flower_link = pic.get_attribute('src')\n",
    "#         print(title, flower_link)\n",
    "        \n",
    "        if title not in exclusions and flower_link not in exclusions:\n",
    "            try:\n",
    "#                 print('try')\n",
    "                with open(\"C:/Users/tyler/Desktop/flowers/\"+flower+\"_\"+str(x)+\".jpg\", \"wb\") as f:\n",
    "                    f.write(requests.get(flower_link).content)\n",
    "            except:\n",
    "                pass\n",
    "#                 print('except')\n",
    "            x+=1    \n",
    "    return x #number of pictures so far -- in order to not overwrite when at new species"
   ]
  },
  {
   "cell_type": "code",
   "execution_count": null,
   "metadata": {
    "scrolled": true
   },
   "outputs": [],
   "source": [
    "# loop_through_url_list(url_list)"
   ]
  },
  {
   "cell_type": "code",
   "execution_count": null,
   "metadata": {},
   "outputs": [],
   "source": [
    "def go_to_full_page():\n",
    "    '''\n",
    "    For the current browser session, this looks for the first\n",
    "    link with 'plants/children', in this case the \"fill list of [flower]\"\n",
    "    link, and returns that full link\n",
    "    ---\n",
    "    input: none\n",
    "    output: a URL meeting the above criteria\n",
    "    '''        \n",
    "    link_list = driver.find_elements_by_css_selector('div a')\n",
    "    for link in link_list:\n",
    "        link = link.get_attribute('href')\n",
    "#         print(link)\n",
    "        if \"/plants/children/\" in link:\n",
    "            target = link\n",
    "            return target"
   ]
  },
  {
   "cell_type": "code",
   "execution_count": null,
   "metadata": {},
   "outputs": [],
   "source": [
    "def species_loop(url, verbose=False):\n",
    "    #loop only when there is an avatar (indicating images present)\n",
    "    driver.get(url)\n",
    "    species_list = []\n",
    "    link_list = driver.find_elements_by_css_selector('td a')\n",
    "    for link in link_list:\n",
    "        try: # find where an avatar exists\n",
    "            picture = link.find_element_by_css_selector('img') \n",
    "            link = link.get_attribute('href')\n",
    "            if \"/plants/view/\" in link:\n",
    "                species_list.append(link)\n",
    "        except: # if no avatar, skip it\n",
    "            if verbose == True:\n",
    "                link = link.get_attribute('href')\n",
    "                if \"/plants/view/\" in link and link not in species_list:\n",
    "                    print('skip ', link)\n",
    "            else:\n",
    "                pass\n",
    "    \n",
    "    return species_list"
   ]
  },
  {
   "cell_type": "code",
   "execution_count": null,
   "metadata": {
    "scrolled": true
   },
   "outputs": [],
   "source": [
    "url=\"https://garden.org/plants/group/\"\n",
    "driver = launch_browser(url)\n",
    "url_list = driver.find_elements_by_tag_name(\"a\")\n",
    "url_list = get_url_list(url_list)\n",
    "\n",
    "for url in url_list[14:]:\n",
    "    x = 0\n",
    "    flower = get_flower_name(url)\n",
    "    driver.get(url) #launch browser\n",
    "    url = go_to_full_page() #get full flower page url\n",
    "    \n",
    "    #a few variable for this loop\n",
    "    offset = 0\n",
    "    success = True\n",
    "    og_url = url\n",
    "    while success == True and x < 2500 and offset < 2000: # stop at 2500 pictures per flower\n",
    "        try:\n",
    "            url = og_url + '?offset=' + str(offset)\n",
    "            species_list = species_loop(url) #go to flower page and get links where avatar is present (has pictures)\n",
    "            for species in species_list: #for each species with pictures, save those pictures\n",
    "                x = save_each_flower_picture(species, flower, x)\n",
    "            offset += 20 #to go to the next species page\n",
    "            print('page', offset/20)\n",
    "        except:\n",
    "            success == False #there are no more species pages\n",
    "    \n",
    "    print(x, flower, 'pictures')"
   ]
  },
  {
   "cell_type": "markdown",
   "metadata": {},
   "source": [
    "### Create subfolders for every image\n",
    "This is necessary for importing the data with Keras in the next part of the process"
   ]
  },
  {
   "cell_type": "code",
   "execution_count": null,
   "metadata": {},
   "outputs": [],
   "source": [
    "# make a list of all flowers downloaded\n",
    "data_dir = 'C:/Users/tyler/Desktop/flowers'\n",
    "class_names = []\n",
    "for file in os.listdir(data_dir):\n",
    "    class_names.append(file.split('_')[0].lower())\n",
    "class_names = list(set(class_names))"
   ]
  },
  {
   "cell_type": "code",
   "execution_count": null,
   "metadata": {},
   "outputs": [],
   "source": [
    "# make a directory for each flower downloaded\n",
    "for flower in class_names:\n",
    "    dirName = data_dir+'/'+flower\n",
    "    if not os.path.exists(dirName):\n",
    "        os.mkdir(dirName)\n",
    "    else:    \n",
    "        pass"
   ]
  },
  {
   "cell_type": "code",
   "execution_count": null,
   "metadata": {},
   "outputs": [],
   "source": [
    "# move each flower into its directory\n",
    "for file in os.listdir(data_dir):\n",
    "    if '.jpg' in file:\n",
    "        flower = file.split('_')[0].lower()\n",
    "        current = data_dir+'/'+file # current file with path\n",
    "        new = data_dir+'/'+flower+'/'+file # current file but new path\n",
    "        os.replace(current, new)"
   ]
  },
  {
   "cell_type": "code",
   "execution_count": null,
   "metadata": {},
   "outputs": [],
   "source": [
    "roses = data_dir+'/roses'\n",
    "\n",
    "for file in os.listdir(roses):\n",
    "    file_num = int(file.split('_')[1].split('.')[0])\n",
    "    if file_num < 4:\n",
    "        filename=roses+'/'+file\n",
    "        i = Image(filename=filename) \n",
    "        display(i)"
   ]
  }
 ],
 "metadata": {
  "kernelspec": {
   "display_name": "Python [conda env:metis] *",
   "language": "python",
   "name": "conda-env-metis-py"
  },
  "language_info": {
   "codemirror_mode": {
    "name": "ipython",
    "version": 3
   },
   "file_extension": ".py",
   "mimetype": "text/x-python",
   "name": "python",
   "nbconvert_exporter": "python",
   "pygments_lexer": "ipython3",
   "version": "3.7.6"
  }
 },
 "nbformat": 4,
 "nbformat_minor": 4
}
